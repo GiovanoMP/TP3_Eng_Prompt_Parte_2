{
 "cells": [
  {
   "cell_type": "markdown",
   "metadata": {},
   "source": [
    "# Exercício 4 \n",
    "\n",
    "# Análise de Sentimento de Manchetes com Meta Prompting\n",
    "\n",
    "## Objetivo\n",
    "Coletar manchetes de um portal de notícias e realizar análise de sentimento usando Gemini Pro com técnica de Meta Prompting"
   ]
  },
  {
   "cell_type": "code",
   "execution_count": 7,
   "metadata": {},
   "outputs": [
    {
     "name": "stderr",
     "output_type": "stream",
     "text": [
      "c:\\infnet_ultimo_semestre\\TP3_Eng_de_Prompt_Parte_2_local\\venv\\Lib\\site-packages\\tqdm\\auto.py:21: TqdmWarning: IProgress not found. Please update jupyter and ipywidgets. See https://ipywidgets.readthedocs.io/en/stable/user_install.html\n",
      "  from .autonotebook import tqdm as notebook_tqdm\n"
     ]
    },
    {
     "data": {
      "text/plain": [
       "True"
      ]
     },
     "execution_count": 7,
     "metadata": {},
     "output_type": "execute_result"
    }
   ],
   "source": [
    "# Importações necessárias\n",
    "import os\n",
    "import requests\n",
    "from bs4 import BeautifulSoup\n",
    "import json\n",
    "import matplotlib.pyplot as plt\n",
    "import pandas as pd\n",
    "from dotenv import load_dotenv\n",
    "import google.generativeai as genai\n",
    "\n",
    "# Carregar variáveis de ambiente\n",
    "load_dotenv()"
   ]
  },
  {
   "cell_type": "code",
   "execution_count": 8,
   "metadata": {},
   "outputs": [],
   "source": [
    "# Configurar a API do Google\n",
    "GOOGLE_API_KEY = os.getenv('GOOGLE_API_KEY')\n",
    "genai.configure(api_key=GOOGLE_API_KEY)\n",
    "\n",
    "# Configurar o modelo Gemini Pro\n",
    "model = genai.GenerativeModel('gemini-pro')"
   ]
  },
  {
   "cell_type": "code",
   "execution_count": 9,
   "metadata": {},
   "outputs": [],
   "source": [
    "# Função para raspar manchetes do G1\n",
    "def scrape_headlines():\n",
    "    url = 'https://g1.globo.com/'\n",
    "    response = requests.get(url)\n",
    "    soup = BeautifulSoup(response.text, 'html.parser')\n",
    "    \n",
    "    # Seletor CSS para manchetes principais\n",
    "    headlines = soup.select('.feed-post-link')\n",
    "    \n",
    "    return [headline.text.strip() for headline in headlines[:10]]"
   ]
  },
  {
   "cell_type": "code",
   "execution_count": 10,
   "metadata": {},
   "outputs": [
    {
     "name": "stdout",
     "output_type": "stream",
     "text": [
      "Manchetes coletadas:\n",
      "- Chanceler do Uruguai diz que há consenso sobre acordo Mercosul-UE\n",
      "- Tarcísio diz que mudou de ideia e defende câmera na farda da PM\n",
      "- Câmera de PM mostra abordagem que terminou com idosa agredida\n",
      "- PM que jogou homem de ponte é preso após prestar depoimento\n",
      "- Mega-Sena pode pagar R$ 2 milhões; veja números\n",
      "- Flagrantes de violência policial e mais VÍDEOS do dia\n",
      "- Homem é preso por forjar acidente que matou ex-esposa e receber seguro de R$ 1 milhão\n",
      "- Após queda de premiê, Macron vai à TV e diz que terminará mandato\n"
     ]
    }
   ],
   "source": [
    "# Coletar manchetes\n",
    "headlines = scrape_headlines()\n",
    "print(\"Manchetes coletadas:\")\n",
    "for h in headlines:\n",
    "    print(f\"- {h}\")"
   ]
  },
  {
   "cell_type": "code",
   "execution_count": 12,
   "metadata": {},
   "outputs": [],
   "source": [
    "# Função de Meta Prompting para análise de sentimento\n",
    "def meta_prompt_sentiment_analysis(headlines, model):\n",
    "    results = []\n",
    "    \n",
    "    # Exemplos de treinamento (few-shot)\n",
    "    few_shot_examples = [\n",
    "        {\n",
    "            \"headline\": \"Vacinação contra Covid-19 atinge 80% da população\",\n",
    "            \"sentiment\": \"Positivo\",\n",
    "            \"reasoning\": \"Notícia sobre progresso na saúde pública\"\n",
    "        },\n",
    "        {\n",
    "            \"headline\": \"Bolsa de Valores apresenta leve variação no pregão\",\n",
    "            \"sentiment\": \"Neutro\",\n",
    "            \"reasoning\": \"Informação factual sem carga emocional forte\"\n",
    "        },\n",
    "        {\n",
    "            \"headline\": \"Número de desempregados aumenta no último trimestre\",\n",
    "            \"sentiment\": \"Negativo\",\n",
    "            \"reasoning\": \"Impacto econômico negativo para a população\"\n",
    "        }\n",
    "    ]\n",
    "\n",
    "    for headline in headlines:\n",
    "        # Construir prompt de Meta Prompting\n",
    "        prompt = f\"\"\"Tarefa: Classifique o sentimento da manchete em Positivo, Neutro ou Negativo.\n",
    "\n",
    "Exemplos de Treinamento:\n",
    "{json.dumps(few_shot_examples, indent=2)}\n",
    "\n",
    "Nova Manchete para Classificação: '{headline}'\n",
    "\n",
    "Instruções para Classificação:\n",
    "1. Analise o contexto geral da manchete\n",
    "2. Identifique o tom emocional predominante\n",
    "3. Classifique em: Positivo, Neutro ou Negativo\n",
    "4. Forneça uma breve justificativa\n",
    "\n",
    "Formato de Resposta JSON:\n",
    "{{\n",
    "    \"headline\": \"...\",\n",
    "    \"sentiment\": \"Positivo/Neutro/Negativo\",\n",
    "    \"reasoning\": \"Justificativa da classificação\"\n",
    "}}\n",
    "\n",
    "Resposta JSON para a manchete '{headline}':\"\"\"\n",
    "        \n",
    "        try:\n",
    "            # Gerar resposta com Gemini Pro\n",
    "            response = model.generate_content(prompt)\n",
    "            \n",
    "            # Extrair e parsear a resposta JSON\n",
    "            sentiment_result = json.loads(response.text.strip('```json').strip('```').strip())\n",
    "            \n",
    "            results.append({\n",
    "                'headline': headline,\n",
    "                'sentiment': sentiment_result['sentiment'],\n",
    "                'reasoning': sentiment_result['reasoning']\n",
    "            })\n",
    "        except Exception as e:\n",
    "            print(f\"Erro ao processar manchete: {headline}\")\n",
    "            print(f\"Erro: {e}\")\n",
    "            results.append({\n",
    "                'headline': headline,\n",
    "                'sentiment': 'Neutro',\n",
    "                'reasoning': 'Não foi possível classificar'\n",
    "            })\n",
    "    \n",
    "    return results"
   ]
  },
  {
   "cell_type": "code",
   "execution_count": 13,
   "metadata": {},
   "outputs": [
    {
     "name": "stdout",
     "output_type": "stream",
     "text": [
      "\n",
      "Resultados da Análise de Sentimento:\n",
      "Manchete: Chanceler do Uruguai diz que há consenso sobre acordo Mercosul-UE\n",
      "Sentimento: Positivo\n",
      "Justificativa: Notícia indica avanço em negociações e potencial benefício para os países envolvidos no acordo.\n",
      "\n",
      "Manchete: Tarcísio diz que mudou de ideia e defende câmera na farda da PM\n",
      "Sentimento: Neutro\n",
      "Justificativa: Informação sobre declaração do governador sem tom emocional explícito, apresentando ambos os lados da questão\n",
      "\n",
      "Manchete: Câmera de PM mostra abordagem que terminou com idosa agredida\n",
      "Sentimento: Negativo\n",
      "Justificativa: Relato de violência contra uma pessoa idosa, gerando sentimentos negativos.\n",
      "\n",
      "Manchete: PM que jogou homem de ponte é preso após prestar depoimento\n",
      "Sentimento: Negativo\n",
      "Justificativa: Relato de um ato de violência e consequência legal, transmitindo um tom emocional negativo.\n",
      "\n",
      "Manchete: Mega-Sena pode pagar R$ 2 milhões; veja números\n",
      "Sentimento: Positivo\n",
      "Justificativa: A manchete transmite a possibilidade de um ganho financeiro significativo, o que geralmente é associado a emoções positivas.\n",
      "\n",
      "Manchete: Flagrantes de violência policial e mais VÍDEOS do dia\n",
      "Sentimento: Negativo\n",
      "Justificativa: A manchete aborda um tema social delicado e potencialmente perturbador, envolvendo violência e violações dos direitos humanos.\n",
      "\n",
      "Manchete: Homem é preso por forjar acidente que matou ex-esposa e receber seguro de R$ 1 milhão\n",
      "Sentimento: Negativo\n",
      "Justificativa: Descreve um crime grave e a consequência negativa para o acusado\n",
      "\n",
      "Manchete: Após queda de premiê, Macron vai à TV e diz que terminará mandato\n",
      "Sentimento: Neutro\n",
      "Justificativa: A manchete apresenta uma informação factual sobre uma declaração do presidente, sem implicar carga emocional positiva ou negativa.\n",
      "\n"
     ]
    }
   ],
   "source": [
    "# Realizar análise de sentimento\n",
    "sentiment_results = meta_prompt_sentiment_analysis(headlines, model)\n",
    "\n",
    "print(\"\\nResultados da Análise de Sentimento:\")\n",
    "for result in sentiment_results:\n",
    "    print(f\"Manchete: {result['headline']}\")\n",
    "    print(f\"Sentimento: {result['sentiment']}\")\n",
    "    print(f\"Justificativa: {result['reasoning']}\\n\")"
   ]
  },
  {
   "cell_type": "code",
   "execution_count": 14,
   "metadata": {},
   "outputs": [],
   "source": [
    "# Visualização dos resultados\n",
    "def plot_sentiment_distribution(results):\n",
    "    df = pd.DataFrame(results)\n",
    "    sentiment_counts = df['sentiment'].value_counts()\n",
    "    \n",
    "    plt.figure(figsize=(10, 6))\n",
    "    sentiment_counts.plot(kind='bar')\n",
    "    plt.title('Distribuição de Sentimentos das Manchetes')\n",
    "    plt.xlabel('Sentimento')\n",
    "    plt.ylabel('Número de Manchetes')\n",
    "    plt.tight_layout()\n",
    "    plt.show()"
   ]
  },
  {
   "cell_type": "code",
   "execution_count": 15,
   "metadata": {},
   "outputs": [
    {
     "data": {
      "image/png": "[encoded data removed]",
      "text/plain": [
       "<Figure size 1000x600 with 1 Axes>"
      ]
     },
     "metadata": {},
     "output_type": "display_data"
    }
   ],
   "source": [
    "# Plotar distribuição de sentimentos\n",
    "plot_sentiment_distribution(sentiment_results)"
   ]
  },
  {
   "cell_type": "markdown",
   "metadata": {},
   "source": [
    "## Meta Prompting e Few-Shot Learning no Contexto de Análise de Sentimento\n",
    "\n",
    "### O que é Meta Prompting?\n",
    "Meta Prompting é uma técnica avançada de engenharia de prompt que envolve fornecer instruções detalhadas e contextuais para um modelo de linguagem, guiando-o para realizar uma tarefa específica de maneira mais precisa e consistente.\n",
    "\n",
    "### Few-Shot Learning\n",
    "Few-shot learning é uma abordagem onde o modelo aprende a realizar uma tarefa com apenas alguns exemplos, em vez de precisar de um grande conjunto de dados de treinamento.\n",
    "\n",
    "### Aplicação no Nosso Exercício\n",
    "\n",
    "#### Componentes Chave:\n",
    "1. **Exemplos de Treinamento**: Fornecemos três manchetes com classificações de sentimento pré-definidas\n",
    "2. **Instruções Detalhadas**: Explicamos como classificar o sentimento\n",
    "3. **Formato de Resposta Estruturado**: Solicitamos uma resposta em JSON com campos específicos\n",
    "\n",
    "#### Benefícios:\n",
    "- Maior precisão na classificação de sentimento\n",
    "- Flexibilidade para lidar com diferentes tipos de manchetes\n",
    "- Capacidade de explicar o raciocínio por trás da classificação\n",
    "\n",
    "### Limitações e Considerações\n",
    "- A qualidade depende muito da escolha dos exemplos\n",
    "- Pode haver variabilidade nas respostas\n",
    "- Requer ajustes e refinamentos constantes"
   ]
  }
 ],
 "metadata": {
  "kernelspec": {
   "display_name": "venv",
   "language": "python",
   "name": "python3"
  },
  "language_info": {
   "name": "python",
   "version": "3.12.6"
  }
 },
 "nbformat": 4,
 "nbformat_minor": 2
}
